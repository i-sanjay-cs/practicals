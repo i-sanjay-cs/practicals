{
 "cells": [
  {
   "cell_type": "code",
   "execution_count": 18,
   "id": "1635eb58",
   "metadata": {},
   "outputs": [],
   "source": [
    "class InvertedIndex:\n",
    "    def __init__(self):\n",
    "        self.index = {}\n",
    "    \n",
    "    def add_doc(self,doc_id,text):\n",
    "        terms = set(text.lower().split())\n",
    "        \n",
    "        for term in terms:\n",
    "            if term in self.index:\n",
    "                self.index[term].add(doc_id)\n",
    "            else:\n",
    "                self.index[term] =  {doc_id}\n",
    "                \n",
    "    def search(self, query):\n",
    "        query_terms = set(query.lower().split())\n",
    "        result_docs = set()\n",
    "        \n",
    "        for term in query_terms:\n",
    "            if term in self.index:\n",
    "                if not result_docs:\n",
    "                    result_docs = self.index[term]\n",
    "                else:\n",
    "                    result_docs = result_docs.intersection(self.index[term])\n",
    "\n",
    "        return result_docs              \n",
    "                    \n",
    "                \n",
    "                \n",
    "                    \n",
    "        "
   ]
  },
  {
   "cell_type": "code",
   "execution_count": 19,
   "id": "bad08c63",
   "metadata": {},
   "outputs": [],
   "source": [
    "# Create an InvertedFileIndex\n",
    "index = InvertedIndex()"
   ]
  },
  {
   "cell_type": "code",
   "execution_count": 20,
   "id": "0a130f58",
   "metadata": {},
   "outputs": [],
   "source": [
    "# Add sample documents\n",
    "index.add_doc(1, \"This is the first document .\")\n",
    "index.add_doc(2, \"The second document is different from the first.\")\n",
    "index.add_doc(3, \"This is the third document.\")"
   ]
  },
  {
   "cell_type": "code",
   "execution_count": 38,
   "id": "04074665",
   "metadata": {},
   "outputs": [],
   "source": [
    "# Perform a sample query\n",
    "query = \"\"\n",
    "results = index.search(query)"
   ]
  },
  {
   "cell_type": "code",
   "execution_count": 39,
   "id": "82eaf6e3",
   "metadata": {},
   "outputs": [
    {
     "name": "stdout",
     "output_type": "stream",
     "text": [
      "No matching documents found.\n"
     ]
    }
   ],
   "source": [
    "if results:\n",
    "    print(\"Matching Document IDs:\", results)\n",
    "else:\n",
    "    print(\"No matching documents found.\")"
   ]
  },
  {
   "cell_type": "code",
   "execution_count": null,
   "id": "488a6c86",
   "metadata": {},
   "outputs": [],
   "source": []
  },
  {
   "cell_type": "code",
   "execution_count": null,
   "id": "f3f6035a",
   "metadata": {},
   "outputs": [],
   "source": []
  },
  {
   "cell_type": "code",
   "execution_count": null,
   "id": "38487ab0",
   "metadata": {},
   "outputs": [],
   "source": []
  },
  {
   "cell_type": "code",
   "execution_count": 40,
   "id": "4745b32d",
   "metadata": {},
   "outputs": [],
   "source": [
    "document_1 = \"The quick brown fox jumped over the lazy dog.\"\n",
    "document_2 = \"The lazy dog slept in the sun.\""
   ]
  },
  {
   "cell_type": "code",
   "execution_count": 41,
   "id": "508a1e44",
   "metadata": {},
   "outputs": [],
   "source": [
    "tokens1 = document_1.lower().split()\n",
    "tokens2 = document_2.lower().split()"
   ]
  },
  {
   "cell_type": "code",
   "execution_count": 43,
   "id": "c99b88a6",
   "metadata": {},
   "outputs": [
    {
     "name": "stdout",
     "output_type": "stream",
     "text": [
      "['the', 'quick', 'brown', 'fox', 'jumped', 'over', 'the', 'lazy', 'dog.']   ['the', 'lazy', 'dog', 'slept', 'in', 'the', 'sun.']\n"
     ]
    }
   ],
   "source": [
    "print(tokens1,\" \",tokens2)"
   ]
  },
  {
   "cell_type": "code",
   "execution_count": 45,
   "id": "2b10ae49",
   "metadata": {},
   "outputs": [],
   "source": [
    "terms = list(set(tokens1+tokens2))"
   ]
  },
  {
   "cell_type": "code",
   "execution_count": 47,
   "id": "9c6f22a4",
   "metadata": {},
   "outputs": [
    {
     "data": {
      "text/plain": [
       "['quick',\n",
       " 'dog',\n",
       " 'the',\n",
       " 'in',\n",
       " 'dog.',\n",
       " 'slept',\n",
       " 'lazy',\n",
       " 'jumped',\n",
       " 'brown',\n",
       " 'sun.',\n",
       " 'over',\n",
       " 'fox']"
      ]
     },
     "execution_count": 47,
     "metadata": {},
     "output_type": "execute_result"
    }
   ],
   "source": [
    "terms\n"
   ]
  },
  {
   "cell_type": "code",
   "execution_count": 48,
   "id": "de9d617d",
   "metadata": {},
   "outputs": [],
   "source": [
    "inverted_index = {}\n"
   ]
  },
  {
   "cell_type": "code",
   "execution_count": 54,
   "id": "30df371f",
   "metadata": {},
   "outputs": [
    {
     "name": "stdout",
     "output_type": "stream",
     "text": [
      "{'fox': ['Document1'], 'quick': ['Document 1'], 'dog': ['Document2'], 'the': ['Document1', 'Document2'], 'in': ['Document2'], 'dog.': ['Document1'], 'slept': ['Document2'], 'lazy': ['Document1', 'Document2'], 'jumped': ['Document1'], 'brown': ['Document1'], 'sun.': ['Document2'], 'over': ['Document1']}\n",
      "{'fox': ['Document1'], 'quick': ['Document 1'], 'dog': ['Document 2'], 'the': ['Document1', 'Document2'], 'in': ['Document2'], 'dog.': ['Document1'], 'slept': ['Document2'], 'lazy': ['Document1', 'Document2'], 'jumped': ['Document1'], 'brown': ['Document1'], 'sun.': ['Document2'], 'over': ['Document1']}\n",
      "{'fox': ['Document1'], 'quick': ['Document 1'], 'dog': ['Document 2'], 'the': ['Document 1', 'Document 2'], 'in': ['Document2'], 'dog.': ['Document1'], 'slept': ['Document2'], 'lazy': ['Document1', 'Document2'], 'jumped': ['Document1'], 'brown': ['Document1'], 'sun.': ['Document2'], 'over': ['Document1']}\n",
      "{'fox': ['Document1'], 'quick': ['Document 1'], 'dog': ['Document 2'], 'the': ['Document 1', 'Document 2'], 'in': ['Document 2'], 'dog.': ['Document1'], 'slept': ['Document2'], 'lazy': ['Document1', 'Document2'], 'jumped': ['Document1'], 'brown': ['Document1'], 'sun.': ['Document2'], 'over': ['Document1']}\n",
      "{'fox': ['Document1'], 'quick': ['Document 1'], 'dog': ['Document 2'], 'the': ['Document 1', 'Document 2'], 'in': ['Document 2'], 'dog.': ['Document 1'], 'slept': ['Document2'], 'lazy': ['Document1', 'Document2'], 'jumped': ['Document1'], 'brown': ['Document1'], 'sun.': ['Document2'], 'over': ['Document1']}\n",
      "{'fox': ['Document1'], 'quick': ['Document 1'], 'dog': ['Document 2'], 'the': ['Document 1', 'Document 2'], 'in': ['Document 2'], 'dog.': ['Document 1'], 'slept': ['Document 2'], 'lazy': ['Document1', 'Document2'], 'jumped': ['Document1'], 'brown': ['Document1'], 'sun.': ['Document2'], 'over': ['Document1']}\n",
      "{'fox': ['Document1'], 'quick': ['Document 1'], 'dog': ['Document 2'], 'the': ['Document 1', 'Document 2'], 'in': ['Document 2'], 'dog.': ['Document 1'], 'slept': ['Document 2'], 'lazy': ['Document 1', 'Document 2'], 'jumped': ['Document1'], 'brown': ['Document1'], 'sun.': ['Document2'], 'over': ['Document1']}\n",
      "{'fox': ['Document1'], 'quick': ['Document 1'], 'dog': ['Document 2'], 'the': ['Document 1', 'Document 2'], 'in': ['Document 2'], 'dog.': ['Document 1'], 'slept': ['Document 2'], 'lazy': ['Document 1', 'Document 2'], 'jumped': ['Document 1'], 'brown': ['Document1'], 'sun.': ['Document2'], 'over': ['Document1']}\n",
      "{'fox': ['Document1'], 'quick': ['Document 1'], 'dog': ['Document 2'], 'the': ['Document 1', 'Document 2'], 'in': ['Document 2'], 'dog.': ['Document 1'], 'slept': ['Document 2'], 'lazy': ['Document 1', 'Document 2'], 'jumped': ['Document 1'], 'brown': ['Document 1'], 'sun.': ['Document2'], 'over': ['Document1']}\n",
      "{'fox': ['Document1'], 'quick': ['Document 1'], 'dog': ['Document 2'], 'the': ['Document 1', 'Document 2'], 'in': ['Document 2'], 'dog.': ['Document 1'], 'slept': ['Document 2'], 'lazy': ['Document 1', 'Document 2'], 'jumped': ['Document 1'], 'brown': ['Document 1'], 'sun.': ['Document 2'], 'over': ['Document1']}\n",
      "{'fox': ['Document1'], 'quick': ['Document 1'], 'dog': ['Document 2'], 'the': ['Document 1', 'Document 2'], 'in': ['Document 2'], 'dog.': ['Document 1'], 'slept': ['Document 2'], 'lazy': ['Document 1', 'Document 2'], 'jumped': ['Document 1'], 'brown': ['Document 1'], 'sun.': ['Document 2'], 'over': ['Document 1']}\n",
      "{'fox': ['Document 1'], 'quick': ['Document 1'], 'dog': ['Document 2'], 'the': ['Document 1', 'Document 2'], 'in': ['Document 2'], 'dog.': ['Document 1'], 'slept': ['Document 2'], 'lazy': ['Document 1', 'Document 2'], 'jumped': ['Document 1'], 'brown': ['Document 1'], 'sun.': ['Document 2'], 'over': ['Document 1']}\n"
     ]
    }
   ],
   "source": [
    "for term in terms:\n",
    " documents = []\n",
    " if term in tokens1:\n",
    "    documents.append(\"Document 1\")\n",
    " if term in tokens2:\n",
    "    documents.append(\"Document 2\")\n",
    " inverted_index[term] = documents\n",
    "\n",
    " print(inverted_index)"
   ]
  },
  {
   "cell_type": "code",
   "execution_count": 62,
   "id": "361f7af4",
   "metadata": {},
   "outputs": [
    {
     "name": "stdout",
     "output_type": "stream",
     "text": [
      "fox -> Document 1\n",
      "quick -> Document 1\n",
      "dog -> Document 2\n",
      "the -> Document 1,Document 2\n",
      "in -> Document 2\n",
      "dog. -> Document 1\n",
      "slept -> Document 2\n",
      "lazy -> Document 1,Document 2\n",
      "jumped -> Document 1\n",
      "brown -> Document 1\n",
      "sun. -> Document 2\n",
      "over -> Document 1\n"
     ]
    }
   ],
   "source": [
    "# Step 3: Print the inverted index\n",
    "for term, documents in inverted_index.items():\n",
    " print(term, \"->\",\",\" .join(documents))"
   ]
  },
  {
   "cell_type": "code",
   "execution_count": null,
   "id": "e8443837",
   "metadata": {},
   "outputs": [],
   "source": []
  }
 ],
 "metadata": {
  "kernelspec": {
   "display_name": "Python 3 (ipykernel)",
   "language": "python",
   "name": "python3"
  },
  "language_info": {
   "codemirror_mode": {
    "name": "ipython",
    "version": 3
   },
   "file_extension": ".py",
   "mimetype": "text/x-python",
   "name": "python",
   "nbconvert_exporter": "python",
   "pygments_lexer": "ipython3",
   "version": "3.11.5"
  }
 },
 "nbformat": 4,
 "nbformat_minor": 5
}
