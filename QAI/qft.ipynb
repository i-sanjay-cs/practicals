{
 "cells": [
  {
   "cell_type": "code",
   "execution_count": 17,
   "id": "e7523d4b",
   "metadata": {},
   "outputs": [],
   "source": [
    "from qiskit import QuantumRegister,ClassicalRegister,Aer,execute,QuantumCircuit\n",
    "from qiskit.circuit.library import QFT\n",
    "from qiskit.tools.monitor import job_monitor\n",
    "import numpy as np"
   ]
  },
  {
   "cell_type": "code",
   "execution_count": 18,
   "id": "ff0815d3",
   "metadata": {},
   "outputs": [],
   "source": [
    "pi = np.pi"
   ]
  },
  {
   "cell_type": "code",
   "execution_count": 19,
   "id": "f330649c",
   "metadata": {},
   "outputs": [],
   "source": [
    "c = ClassicalRegister(5,'c')\n",
    "q = QuantumRegister(5,'q')\n",
    "circuit = QuantumCircuit(q,c)"
   ]
  },
  {
   "cell_type": "code",
   "execution_count": 20,
   "id": "8d365f2e",
   "metadata": {},
   "outputs": [],
   "source": [
    "circuit.x(q[4])\n",
    "circuit.x(q[2])\n",
    "circuit.x(q[0])\n",
    "qft_circuit = QFT(num_qubits=5, approximation_degree=0, do_swaps=True, inverse=False, insert_barriers=False, name='qft')\n",
    "circuit.compose(qft_circuit, inplace=True) "
   ]
  },
  {
   "cell_type": "code",
   "execution_count": 21,
   "id": "5506e623",
   "metadata": {},
   "outputs": [
    {
     "data": {
      "text/plain": [
       "<qiskit.circuit.instructionset.InstructionSet at 0x1dc9b6029b0>"
      ]
     },
     "execution_count": 21,
     "metadata": {},
     "output_type": "execute_result"
    }
   ],
   "source": [
    "circuit.measure(q,c)"
   ]
  },
  {
   "cell_type": "code",
   "execution_count": 22,
   "id": "5e0eb1f7",
   "metadata": {},
   "outputs": [
    {
     "data": {
      "text/html": [
       "<pre style=\"word-wrap: normal;white-space: pre;background: #fff0;line-height: 1.1;font-family: &quot;Courier New&quot;,Courier,monospace\">     ┌───┐┌──────┐┌─┐            \n",
       "q_0: ┤ X ├┤0     ├┤M├────────────\n",
       "     └───┘│      │└╥┘┌─┐         \n",
       "q_1: ─────┤1     ├─╫─┤M├─────────\n",
       "     ┌───┐│      │ ║ └╥┘┌─┐      \n",
       "q_2: ┤ X ├┤2 qft ├─╫──╫─┤M├──────\n",
       "     └───┘│      │ ║  ║ └╥┘┌─┐   \n",
       "q_3: ─────┤3     ├─╫──╫──╫─┤M├───\n",
       "     ┌───┐│      │ ║  ║  ║ └╥┘┌─┐\n",
       "q_4: ┤ X ├┤4     ├─╫──╫──╫──╫─┤M├\n",
       "     └───┘└──────┘ ║  ║  ║  ║ └╥┘\n",
       "c: 5/══════════════╩══╩══╩══╩══╩═\n",
       "                   0  1  2  3  4 </pre>"
      ],
      "text/plain": [
       "     ┌───┐┌──────┐┌─┐            \n",
       "q_0: ┤ X ├┤0     ├┤M├────────────\n",
       "     └───┘│      │└╥┘┌─┐         \n",
       "q_1: ─────┤1     ├─╫─┤M├─────────\n",
       "     ┌───┐│      │ ║ └╥┘┌─┐      \n",
       "q_2: ┤ X ├┤2 qft ├─╫──╫─┤M├──────\n",
       "     └───┘│      │ ║  ║ └╥┘┌─┐   \n",
       "q_3: ─────┤3     ├─╫──╫──╫─┤M├───\n",
       "     ┌───┐│      │ ║  ║  ║ └╥┘┌─┐\n",
       "q_4: ┤ X ├┤4     ├─╫──╫──╫──╫─┤M├\n",
       "     └───┘└──────┘ ║  ║  ║  ║ └╥┘\n",
       "c: 5/══════════════╩══╩══╩══╩══╩═\n",
       "                   0  1  2  3  4 "
      ]
     },
     "execution_count": 22,
     "metadata": {},
     "output_type": "execute_result"
    }
   ],
   "source": [
    "circuit.draw()\n"
   ]
  },
  {
   "cell_type": "code",
   "execution_count": 23,
   "id": "0d2e4cb8",
   "metadata": {},
   "outputs": [],
   "source": [
    "backend = Aer.get_backend('qasm_simulator')"
   ]
  },
  {
   "cell_type": "code",
   "execution_count": 24,
   "id": "c31a52f7",
   "metadata": {},
   "outputs": [],
   "source": [
    "job = execute(circuit,backend,shots=1000)"
   ]
  },
  {
   "cell_type": "code",
   "execution_count": 25,
   "id": "e600e333",
   "metadata": {},
   "outputs": [
    {
     "name": "stdout",
     "output_type": "stream",
     "text": [
      "\r",
      "Job Status: job has successfully run\n"
     ]
    }
   ],
   "source": [
    "job_monitor(job)"
   ]
  },
  {
   "cell_type": "code",
   "execution_count": 26,
   "id": "ab081eee",
   "metadata": {},
   "outputs": [],
   "source": [
    "counts = job.result().get_counts()"
   ]
  },
  {
   "cell_type": "code",
   "execution_count": 27,
   "id": "77906a51",
   "metadata": {},
   "outputs": [
    {
     "data": {
      "text/plain": [
       "{'00110': 31,\n",
       " '01010': 36,\n",
       " '10000': 36,\n",
       " '11011': 30,\n",
       " '00011': 26,\n",
       " '00101': 32,\n",
       " '01110': 30,\n",
       " '10001': 37,\n",
       " '10010': 30,\n",
       " '00010': 28,\n",
       " '10100': 29,\n",
       " '01101': 26,\n",
       " '01000': 30,\n",
       " '11010': 33,\n",
       " '11001': 38,\n",
       " '01111': 34,\n",
       " '01100': 26,\n",
       " '10111': 37,\n",
       " '11000': 26,\n",
       " '10101': 30,\n",
       " '11111': 25,\n",
       " '00100': 28,\n",
       " '00000': 31,\n",
       " '10011': 33,\n",
       " '00001': 36,\n",
       " '11101': 25,\n",
       " '00111': 35,\n",
       " '11100': 36,\n",
       " '01001': 33,\n",
       " '11110': 26,\n",
       " '10110': 33,\n",
       " '01011': 34}"
      ]
     },
     "execution_count": 27,
     "metadata": {},
     "output_type": "execute_result"
    }
   ],
   "source": [
    "counts"
   ]
  },
  {
   "cell_type": "code",
   "execution_count": null,
   "id": "dc7c9b93",
   "metadata": {},
   "outputs": [],
   "source": []
  }
 ],
 "metadata": {
  "kernelspec": {
   "display_name": "Python 3 (ipykernel)",
   "language": "python",
   "name": "python3"
  },
  "language_info": {
   "codemirror_mode": {
    "name": "ipython",
    "version": 3
   },
   "file_extension": ".py",
   "mimetype": "text/x-python",
   "name": "python",
   "nbconvert_exporter": "python",
   "pygments_lexer": "ipython3",
   "version": "3.11.5"
  }
 },
 "nbformat": 4,
 "nbformat_minor": 5
}
